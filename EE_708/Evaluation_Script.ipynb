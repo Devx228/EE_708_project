{
  "nbformat": 4,
  "nbformat_minor": 0,
  "metadata": {
    "colab": {
      "provenance": []
    },
    "kernelspec": {
      "name": "python3",
      "display_name": "Python 3"
    },
    "language_info": {
      "name": "python"
    }
  },
  "cells": [
    {
      "cell_type": "markdown",
      "source": [
        "## Loading the model ( add the address of the model)"
      ],
      "metadata": {
        "id": "XZWizA9-YLzx"
      }
    },
    {
      "cell_type": "code",
      "execution_count": 14,
      "metadata": {
        "id": "nBEXwWKeX3D8"
      },
      "outputs": [],
      "source": [
        "import joblib\n",
        "import pandas as pd\n",
        "\n",
        "# Load the saved model\n",
        "kmeans = joblib.load(\"address of the model\") # Address of the .pkl model\n"
      ]
    },
    {
      "cell_type": "markdown",
      "source": [
        "## Running the test data ( Add the test file below )"
      ],
      "metadata": {
        "id": "A3DKOP28YlG_"
      }
    },
    {
      "cell_type": "code",
      "source": [
        "import pandas as pd\n",
        "data = pd.read_csv(\"address of test file \") # Add the address of test file.\n",
        "X = data.iloc[:, 1:]\n",
        "\n",
        "# Predict clusters for test data\n",
        "predictions = kmeans.predict(X)\n",
        "\n",
        "# Print or save predictions\n",
        "print(predictions)\n"
      ],
      "metadata": {
        "id": "O2RhWWJaakfJ"
      },
      "execution_count": null,
      "outputs": []
    }
  ]
}